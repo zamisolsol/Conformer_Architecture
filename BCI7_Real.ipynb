{
 "cells": [
  {
   "cell_type": "code",
   "execution_count": 75,
   "id": "f8433f79-1def-44b6-9554-dddaaeafe22e",
   "metadata": {
    "scrolled": true
   },
   "outputs": [
    {
     "name": "stdout",
     "output_type": "stream",
     "text": [
      "Requirement already satisfied: numpy in c:\\users\\kimso\\anaconda3\\envs\\csp_lda\\lib\\site-packages (1.26.4)\n",
      "Requirement already satisfied: moabb in c:\\users\\kimso\\anaconda3\\envs\\csp_lda\\lib\\site-packages (1.1.1)\n",
      "Requirement already satisfied: PyYAML<7.0,>=6.0 in c:\\users\\kimso\\anaconda3\\envs\\csp_lda\\lib\\site-packages (from moabb) (6.0.2)\n",
      "Requirement already satisfied: coverage<8.0.0,>=7.0.1 in c:\\users\\kimso\\anaconda3\\envs\\csp_lda\\lib\\site-packages (from moabb) (7.6.10)\n",
      "Requirement already satisfied: edfio<0.5.0,>=0.4.2 in c:\\users\\kimso\\anaconda3\\envs\\csp_lda\\lib\\site-packages (from moabb) (0.4.5)\n",
      "Requirement already satisfied: edflib-python<2.0.0,>=1.0.6 in c:\\users\\kimso\\anaconda3\\envs\\csp_lda\\lib\\site-packages (from moabb) (1.0.8)\n",
      "Requirement already satisfied: h5py<4.0.0,>=3.10.0 in c:\\users\\kimso\\anaconda3\\envs\\csp_lda\\lib\\site-packages (from moabb) (3.12.1)\n",
      "Requirement already satisfied: matplotlib<4.0.0,>=3.6.2 in c:\\users\\kimso\\anaconda3\\envs\\csp_lda\\lib\\site-packages (from moabb) (3.10.0)\n",
      "Requirement already satisfied: memory-profiler<0.62.0,>=0.61.0 in c:\\users\\kimso\\anaconda3\\envs\\csp_lda\\lib\\site-packages (from moabb) (0.61.0)\n",
      "Requirement already satisfied: mne<2.0.0,>=1.7.0 in c:\\users\\kimso\\anaconda3\\envs\\csp_lda\\lib\\site-packages (from moabb) (1.9.0)\n",
      "Requirement already satisfied: mne-bids<0.15,>=0.14 in c:\\users\\kimso\\anaconda3\\envs\\csp_lda\\lib\\site-packages (from moabb) (0.14)\n",
      "Requirement already satisfied: pandas<2.0.0,>=1.5.2 in c:\\users\\kimso\\anaconda3\\envs\\csp_lda\\lib\\site-packages (from moabb) (1.5.3)\n",
      "Requirement already satisfied: pooch<2.0.0,>=1.6.0 in c:\\users\\kimso\\anaconda3\\envs\\csp_lda\\lib\\site-packages (from moabb) (1.8.2)\n",
      "Requirement already satisfied: pyriemann<0.7,>=0.6 in c:\\users\\kimso\\anaconda3\\envs\\csp_lda\\lib\\site-packages (from moabb) (0.6)\n",
      "Requirement already satisfied: pytest<8.0.0,>=7.4.0 in c:\\users\\kimso\\anaconda3\\envs\\csp_lda\\lib\\site-packages (from moabb) (7.4.4)\n",
      "Requirement already satisfied: requests<3.0.0,>=2.28.1 in c:\\users\\kimso\\anaconda3\\envs\\csp_lda\\lib\\site-packages (from moabb) (2.32.3)\n",
      "Requirement already satisfied: scikit-learn>=1.4.2 in c:\\users\\kimso\\anaconda3\\envs\\csp_lda\\lib\\site-packages (from moabb) (1.6.1)\n",
      "Requirement already satisfied: scipy<2.0.0,>=1.9.3 in c:\\users\\kimso\\anaconda3\\envs\\csp_lda\\lib\\site-packages (from moabb) (1.15.1)\n",
      "Requirement already satisfied: seaborn<0.13.0,>=0.12.1 in c:\\users\\kimso\\anaconda3\\envs\\csp_lda\\lib\\site-packages (from moabb) (0.12.2)\n",
      "Requirement already satisfied: tqdm<5.0.0,>=4.64.1 in c:\\users\\kimso\\anaconda3\\envs\\csp_lda\\lib\\site-packages (from moabb) (4.67.1)\n",
      "Requirement already satisfied: urllib3<2.0.0,>=1.26.15 in c:\\users\\kimso\\anaconda3\\envs\\csp_lda\\lib\\site-packages (from moabb) (1.26.20)\n",
      "Requirement already satisfied: contourpy>=1.0.1 in c:\\users\\kimso\\anaconda3\\envs\\csp_lda\\lib\\site-packages (from matplotlib<4.0.0,>=3.6.2->moabb) (1.3.1)\n",
      "Requirement already satisfied: cycler>=0.10 in c:\\users\\kimso\\anaconda3\\envs\\csp_lda\\lib\\site-packages (from matplotlib<4.0.0,>=3.6.2->moabb) (0.12.1)\n",
      "Requirement already satisfied: fonttools>=4.22.0 in c:\\users\\kimso\\anaconda3\\envs\\csp_lda\\lib\\site-packages (from matplotlib<4.0.0,>=3.6.2->moabb) (4.55.8)\n",
      "Requirement already satisfied: kiwisolver>=1.3.1 in c:\\users\\kimso\\anaconda3\\envs\\csp_lda\\lib\\site-packages (from matplotlib<4.0.0,>=3.6.2->moabb) (1.4.8)\n",
      "Requirement already satisfied: packaging>=20.0 in c:\\users\\kimso\\anaconda3\\envs\\csp_lda\\lib\\site-packages (from matplotlib<4.0.0,>=3.6.2->moabb) (24.2)\n",
      "Requirement already satisfied: pillow>=8 in c:\\users\\kimso\\anaconda3\\envs\\csp_lda\\lib\\site-packages (from matplotlib<4.0.0,>=3.6.2->moabb) (11.1.0)\n",
      "Requirement already satisfied: pyparsing>=2.3.1 in c:\\users\\kimso\\anaconda3\\envs\\csp_lda\\lib\\site-packages (from matplotlib<4.0.0,>=3.6.2->moabb) (3.2.1)\n",
      "Requirement already satisfied: python-dateutil>=2.7 in c:\\users\\kimso\\anaconda3\\envs\\csp_lda\\lib\\site-packages (from matplotlib<4.0.0,>=3.6.2->moabb) (2.9.0.post0)\n",
      "Requirement already satisfied: psutil in c:\\users\\kimso\\anaconda3\\envs\\csp_lda\\lib\\site-packages (from memory-profiler<0.62.0,>=0.61.0->moabb) (6.1.1)\n",
      "Requirement already satisfied: decorator in c:\\users\\kimso\\anaconda3\\envs\\csp_lda\\lib\\site-packages (from mne<2.0.0,>=1.7.0->moabb) (5.1.1)\n",
      "Requirement already satisfied: jinja2 in c:\\users\\kimso\\anaconda3\\envs\\csp_lda\\lib\\site-packages (from mne<2.0.0,>=1.7.0->moabb) (3.1.5)\n",
      "Requirement already satisfied: lazy-loader>=0.3 in c:\\users\\kimso\\anaconda3\\envs\\csp_lda\\lib\\site-packages (from mne<2.0.0,>=1.7.0->moabb) (0.4)\n",
      "Requirement already satisfied: pytz>=2020.1 in c:\\users\\kimso\\anaconda3\\envs\\csp_lda\\lib\\site-packages (from pandas<2.0.0,>=1.5.2->moabb) (2025.1)\n",
      "Requirement already satisfied: platformdirs>=2.5.0 in c:\\users\\kimso\\anaconda3\\envs\\csp_lda\\lib\\site-packages (from pooch<2.0.0,>=1.6.0->moabb) (4.3.6)\n",
      "Requirement already satisfied: joblib in c:\\users\\kimso\\anaconda3\\envs\\csp_lda\\lib\\site-packages (from pyriemann<0.7,>=0.6->moabb) (1.4.2)\n",
      "Requirement already satisfied: iniconfig in c:\\users\\kimso\\anaconda3\\envs\\csp_lda\\lib\\site-packages (from pytest<8.0.0,>=7.4.0->moabb) (2.0.0)\n",
      "Requirement already satisfied: pluggy<2.0,>=0.12 in c:\\users\\kimso\\anaconda3\\envs\\csp_lda\\lib\\site-packages (from pytest<8.0.0,>=7.4.0->moabb) (1.5.0)\n",
      "Requirement already satisfied: exceptiongroup>=1.0.0rc8 in c:\\users\\kimso\\anaconda3\\envs\\csp_lda\\lib\\site-packages (from pytest<8.0.0,>=7.4.0->moabb) (1.2.2)\n",
      "Requirement already satisfied: tomli>=1.0.0 in c:\\users\\kimso\\anaconda3\\envs\\csp_lda\\lib\\site-packages (from pytest<8.0.0,>=7.4.0->moabb) (2.2.1)\n",
      "Requirement already satisfied: colorama in c:\\users\\kimso\\anaconda3\\envs\\csp_lda\\lib\\site-packages (from pytest<8.0.0,>=7.4.0->moabb) (0.4.6)\n",
      "Requirement already satisfied: charset-normalizer<4,>=2 in c:\\users\\kimso\\anaconda3\\envs\\csp_lda\\lib\\site-packages (from requests<3.0.0,>=2.28.1->moabb) (3.4.1)\n",
      "Requirement already satisfied: idna<4,>=2.5 in c:\\users\\kimso\\anaconda3\\envs\\csp_lda\\lib\\site-packages (from requests<3.0.0,>=2.28.1->moabb) (3.10)\n",
      "Requirement already satisfied: certifi>=2017.4.17 in c:\\users\\kimso\\anaconda3\\envs\\csp_lda\\lib\\site-packages (from requests<3.0.0,>=2.28.1->moabb) (2025.1.31)\n",
      "Requirement already satisfied: threadpoolctl>=3.1.0 in c:\\users\\kimso\\anaconda3\\envs\\csp_lda\\lib\\site-packages (from scikit-learn>=1.4.2->moabb) (3.5.0)\n",
      "Requirement already satisfied: six>=1.5 in c:\\users\\kimso\\anaconda3\\envs\\csp_lda\\lib\\site-packages (from python-dateutil>=2.7->matplotlib<4.0.0,>=3.6.2->moabb) (1.17.0)\n",
      "Requirement already satisfied: MarkupSafe>=2.0 in c:\\users\\kimso\\anaconda3\\envs\\csp_lda\\lib\\site-packages (from jinja2->mne<2.0.0,>=1.7.0->moabb) (3.0.2)\n"
     ]
    }
   ],
   "source": [
    "!pip install numpy moabb"
   ]
  },
  {
   "cell_type": "code",
   "execution_count": 26,
   "id": "2becd23a-8ba8-4a58-a747-055840b55de6",
   "metadata": {},
   "outputs": [],
   "source": [
    "import moabb\n",
    "import numpy as np\n",
    "import mne\n",
    "import torch\n",
    "import torch.nn as nn\n",
    "import torch.optim as optim\n",
    "from moabb.datasets import MAMEM3\n",
    "\n",
    "from moabb.paradigms import SSVEP\n",
    "from sklearn.model_selection import train_test_split\n",
    "from torch.utils.data import DataLoader, TensorDataset\n",
    "from scipy.fftpack import fft"
   ]
  },
  {
   "cell_type": "code",
   "execution_count": 27,
   "id": "9199738f-8592-4be2-bd71-856f8edb5d1c",
   "metadata": {},
   "outputs": [
    {
     "name": "stderr",
     "output_type": "stream",
     "text": [
      "Choosing the first None classes from all possible events\n"
     ]
    },
    {
     "name": "stdout",
     "output_type": "stream",
     "text": [
      "✅ 데이터 로드 완료: X shape: (80, 14, 385), y shape: (80,)\n"
     ]
    },
    {
     "name": "stderr",
     "output_type": "stream",
     "text": [
      "C:\\Users\\kimso\\anaconda3\\envs\\sol3\\lib\\site-packages\\moabb\\datasets\\preprocessing.py:279: UserWarning: warnEpochs <Epochs | 10 events (all good), 1 – 4 s (baseline off), ~447 KiB, data loaded,\n",
      " '6.66': 3\n",
      " '7.50': 0\n",
      " '8.57': 2\n",
      " '10.00': 2\n",
      " '12.00': 3>\n",
      "  warn(f\"warnEpochs {epochs}\")\n",
      "C:\\Users\\kimso\\anaconda3\\envs\\sol3\\lib\\site-packages\\sklearn\\pipeline.py:62: FutureWarning: This Pipeline instance is not fitted yet. Call 'fit' with appropriate arguments before using other methods such as transform, predict, etc. This will raise an error in 1.8 instead of the current warning.\n",
      "  warnings.warn(\n",
      "C:\\Users\\kimso\\anaconda3\\envs\\sol3\\lib\\site-packages\\moabb\\datasets\\preprocessing.py:279: UserWarning: warnEpochs <Epochs | 10 events (all good), 1 – 4 s (baseline off), ~447 KiB, data loaded,\n",
      " '6.66': 1\n",
      " '7.50': 0\n",
      " '8.57': 3\n",
      " '10.00': 4\n",
      " '12.00': 2>\n",
      "  warn(f\"warnEpochs {epochs}\")\n",
      "C:\\Users\\kimso\\anaconda3\\envs\\sol3\\lib\\site-packages\\sklearn\\pipeline.py:62: FutureWarning: This Pipeline instance is not fitted yet. Call 'fit' with appropriate arguments before using other methods such as transform, predict, etc. This will raise an error in 1.8 instead of the current warning.\n",
      "  warnings.warn(\n",
      "C:\\Users\\kimso\\anaconda3\\envs\\sol3\\lib\\site-packages\\moabb\\datasets\\preprocessing.py:279: UserWarning: warnEpochs <Epochs | 10 events (all good), 1 – 4 s (baseline off), ~447 KiB, data loaded,\n",
      " '6.66': 3\n",
      " '7.50': 0\n",
      " '8.57': 2\n",
      " '10.00': 2\n",
      " '12.00': 3>\n",
      "  warn(f\"warnEpochs {epochs}\")\n",
      "C:\\Users\\kimso\\anaconda3\\envs\\sol3\\lib\\site-packages\\sklearn\\pipeline.py:62: FutureWarning: This Pipeline instance is not fitted yet. Call 'fit' with appropriate arguments before using other methods such as transform, predict, etc. This will raise an error in 1.8 instead of the current warning.\n",
      "  warnings.warn(\n",
      "C:\\Users\\kimso\\anaconda3\\envs\\sol3\\lib\\site-packages\\moabb\\datasets\\preprocessing.py:279: UserWarning: warnEpochs <Epochs | 10 events (all good), 1 – 4 s (baseline off), ~447 KiB, data loaded,\n",
      " '6.66': 1\n",
      " '7.50': 0\n",
      " '8.57': 3\n",
      " '10.00': 4\n",
      " '12.00': 2>\n",
      "  warn(f\"warnEpochs {epochs}\")\n",
      "C:\\Users\\kimso\\anaconda3\\envs\\sol3\\lib\\site-packages\\sklearn\\pipeline.py:62: FutureWarning: This Pipeline instance is not fitted yet. Call 'fit' with appropriate arguments before using other methods such as transform, predict, etc. This will raise an error in 1.8 instead of the current warning.\n",
      "  warnings.warn(\n",
      "C:\\Users\\kimso\\anaconda3\\envs\\sol3\\lib\\site-packages\\moabb\\datasets\\preprocessing.py:279: UserWarning: warnEpochs <Epochs | 10 events (all good), 1 – 4 s (baseline off), ~447 KiB, data loaded,\n",
      " '6.66': 3\n",
      " '7.50': 0\n",
      " '8.57': 2\n",
      " '10.00': 2\n",
      " '12.00': 3>\n",
      "  warn(f\"warnEpochs {epochs}\")\n",
      "C:\\Users\\kimso\\anaconda3\\envs\\sol3\\lib\\site-packages\\sklearn\\pipeline.py:62: FutureWarning: This Pipeline instance is not fitted yet. Call 'fit' with appropriate arguments before using other methods such as transform, predict, etc. This will raise an error in 1.8 instead of the current warning.\n",
      "  warnings.warn(\n",
      "C:\\Users\\kimso\\anaconda3\\envs\\sol3\\lib\\site-packages\\moabb\\datasets\\preprocessing.py:279: UserWarning: warnEpochs <Epochs | 10 events (all good), 1 – 4 s (baseline off), ~447 KiB, data loaded,\n",
      " '6.66': 1\n",
      " '7.50': 0\n",
      " '8.57': 3\n",
      " '10.00': 4\n",
      " '12.00': 2>\n",
      "  warn(f\"warnEpochs {epochs}\")\n",
      "C:\\Users\\kimso\\anaconda3\\envs\\sol3\\lib\\site-packages\\sklearn\\pipeline.py:62: FutureWarning: This Pipeline instance is not fitted yet. Call 'fit' with appropriate arguments before using other methods such as transform, predict, etc. This will raise an error in 1.8 instead of the current warning.\n",
      "  warnings.warn(\n",
      "C:\\Users\\kimso\\anaconda3\\envs\\sol3\\lib\\site-packages\\moabb\\datasets\\preprocessing.py:279: UserWarning: warnEpochs <Epochs | 10 events (all good), 1 – 4 s (baseline off), ~447 KiB, data loaded,\n",
      " '6.66': 3\n",
      " '7.50': 0\n",
      " '8.57': 2\n",
      " '10.00': 2\n",
      " '12.00': 3>\n",
      "  warn(f\"warnEpochs {epochs}\")\n",
      "C:\\Users\\kimso\\anaconda3\\envs\\sol3\\lib\\site-packages\\sklearn\\pipeline.py:62: FutureWarning: This Pipeline instance is not fitted yet. Call 'fit' with appropriate arguments before using other methods such as transform, predict, etc. This will raise an error in 1.8 instead of the current warning.\n",
      "  warnings.warn(\n",
      "C:\\Users\\kimso\\anaconda3\\envs\\sol3\\lib\\site-packages\\moabb\\datasets\\preprocessing.py:279: UserWarning: warnEpochs <Epochs | 10 events (all good), 1 – 4 s (baseline off), ~447 KiB, data loaded,\n",
      " '6.66': 1\n",
      " '7.50': 0\n",
      " '8.57': 3\n",
      " '10.00': 4\n",
      " '12.00': 2>\n",
      "  warn(f\"warnEpochs {epochs}\")\n",
      "C:\\Users\\kimso\\anaconda3\\envs\\sol3\\lib\\site-packages\\sklearn\\pipeline.py:62: FutureWarning: This Pipeline instance is not fitted yet. Call 'fit' with appropriate arguments before using other methods such as transform, predict, etc. This will raise an error in 1.8 instead of the current warning.\n",
      "  warnings.warn(\n"
     ]
    }
   ],
   "source": [
    "fmin = 6  # 최소 주파수 (6Hz)\n",
    "fmax = 14  # 최대 주파수 (14Hz)\n",
    "paradigm = SSVEP(fmin=fmin, fmax=fmax, resample=128)\n",
    "\n",
    "# ✅ MAMEM3 데이터셋 불러오기 (첫 번째 참가자)\n",
    "dataset = MAMEM3()\n",
    "X, y, metadata = paradigm.get_data(dataset=dataset, subjects=[1])\n",
    "\n",
    "print(f\"✅ 데이터 로드 완료: X shape: {X.shape}, y shape: {y.shape}\")"
   ]
  },
  {
   "cell_type": "code",
   "execution_count": 28,
   "id": "f058bbca-0176-4074-b566-534a94d98854",
   "metadata": {},
   "outputs": [],
   "source": [
    "# ✅ FFT를 이용한 주파수 특징 추출 함수\n",
    "def extract_fft_features(X, sfreq=128):\n",
    "    num_samples, num_channels, num_timepoints = X.shape\n",
    "    fft_values = np.abs(fft(X, axis=2))  # FFT 적용 (절대값)\n",
    "    \n",
    "    # 관심 주파수 대역 선택 (6~14Hz)\n",
    "    freqs = np.fft.fftfreq(num_timepoints, d=1/sfreq)\n",
    "    freq_mask = (freqs >= fmin) & (freqs <= fmax)\n",
    "    \n",
    "    return fft_values[:, :, freq_mask]"
   ]
  },
  {
   "cell_type": "code",
   "execution_count": 29,
   "id": "b88e20f1-b3cc-49d1-b6c1-1649a05505f7",
   "metadata": {},
   "outputs": [
    {
     "name": "stdout",
     "output_type": "stream",
     "text": [
      "✅ FFT 변환 완료: X_fft shape: (80, 1, 14, 24)\n"
     ]
    }
   ],
   "source": [
    "# ✅ FFT 변환 적용\n",
    "X_fft = extract_fft_features(X)\n",
    "X_fft = np.expand_dims(X_fft, axis=1)  # (batch, 1, channels, time)\n",
    "print(f\"✅ FFT 변환 완료: X_fft shape: {X_fft.shape}\")\n",
    "\n",
    "# ✅ 데이터 분할 (훈련: 80%, 테스트: 20%)\n",
    "X_train, X_test, y_train, y_test = train_test_split(X_fft, y, test_size=0.2, random_state=42)"
   ]
  },
  {
   "cell_type": "code",
   "execution_count": 30,
   "id": "23638691-e0bc-4f92-b457-348bfa268098",
   "metadata": {},
   "outputs": [
    {
     "name": "stdout",
     "output_type": "stream",
     "text": [
      "✅ 데이터 변환 완료!\n"
     ]
    }
   ],
   "source": [
    "# ✅ PyTorch 데이터셋 변환\n",
    "\n",
    "# X 데이터는 float32 변환\n",
    "X_train_tensor = torch.tensor(X_train, dtype=torch.float32)\n",
    "X_test_tensor = torch.tensor(X_test, dtype=torch.float32)\n",
    "\n",
    "# ✅ 클래스 매핑을 위한 고유한 주파수 목록 (MAMEM3 실험에서 사용된 5개 주파수)\n",
    "unique_freqs = np.unique(y_train)  # y_train과 y_test에 있는 고유한 주파수 값\n",
    "\n",
    "# ✅ 주파수를 정수 인덱스로 매핑 (예: 6.66Hz → 0, 7.50Hz → 1 ...)\n",
    "freq_to_index = {freq: idx for idx, freq in enumerate(unique_freqs)}\n",
    "\n",
    "# ✅ 주파수를 정수 인덱스로 변환\n",
    "y_train = np.array([freq_to_index[freq] for freq in y_train])\n",
    "y_test = np.array([freq_to_index[freq] for freq in y_test])\n",
    "\n",
    "# ✅ PyTorch Tensor 변환\n",
    "y_train_tensor = torch.tensor(y_train, dtype=torch.long)\n",
    "y_test_tensor = torch.tensor(y_test, dtype=torch.long)\n",
    "\n",
    "# ✅ TensorDataset 및 DataLoader 구성\n",
    "train_dataset = TensorDataset(X_train_tensor, y_train_tensor)\n",
    "test_dataset = TensorDataset(X_test_tensor, y_test_tensor)\n",
    "\n",
    "train_loader = DataLoader(train_dataset, batch_size=16, shuffle=True)\n",
    "test_loader = DataLoader(test_dataset, batch_size=16, shuffle=False)\n",
    "\n",
    "print(\"✅ 데이터 변환 완료!\")"
   ]
  },
  {
   "cell_type": "code",
   "execution_count": 31,
   "id": "4f94333c-7696-41ac-bf10-568ee5000f02",
   "metadata": {},
   "outputs": [],
   "source": [
    "# ✅ EEGNet 모델 정의\n",
    "class EEGNet(nn.Module):\n",
    "    def __init__(self, num_classes=5):\n",
    "        super(EEGNet, self).__init__()\n",
    "        self.conv1 = nn.Conv2d(1, 16, (1, 64), padding=(0, 32))\n",
    "        self.batchnorm1 = nn.BatchNorm2d(16)\n",
    "        self.conv2 = nn.Conv2d(16, 32, (14, 1), groups=16)\n",
    "        self.batchnorm2 = nn.BatchNorm2d(32)\n",
    "        self.pool = nn.AvgPool2d((1, 4))\n",
    "        self.fc1 = nn.Linear(32 * (X_train.shape[3]//4), num_classes)\n",
    "\n",
    "    def forward(self, x):\n",
    "        x = self.conv1(x)\n",
    "        x = self.batchnorm1(x)\n",
    "        x = torch.relu(x)\n",
    "        x = self.conv2(x)\n",
    "        x = self.batchnorm2(x)\n",
    "        x = torch.relu(x)\n",
    "        x = self.pool(x)\n",
    "        x = x.view(x.size(0), -1)  # Flatten\n",
    "        x = self.fc1(x)\n",
    "        return x"
   ]
  },
  {
   "cell_type": "code",
   "execution_count": 32,
   "id": "40ef2d5a-3945-4afb-a9ac-c9a01f6b9eaf",
   "metadata": {},
   "outputs": [],
   "source": [
    "# ✅ 모델 초기화\n",
    "device = torch.device(\"cuda\" if torch.cuda.is_available() else \"cpu\")\n",
    "model = EEGNet(num_classes=len(np.unique(y))).to(device)\n",
    "criterion = nn.CrossEntropyLoss()\n",
    "optimizer = optim.Adam(model.parameters(), lr=0.001)"
   ]
  },
  {
   "cell_type": "code",
   "execution_count": 33,
   "id": "3df16e78-c84c-4406-b406-77383a5ba036",
   "metadata": {},
   "outputs": [
    {
     "name": "stdout",
     "output_type": "stream",
     "text": [
      "Epoch 1/20, Loss: 1.4311197400093079\n",
      "Epoch 2/20, Loss: 1.3239556849002838\n",
      "Epoch 3/20, Loss: 1.2785580158233643\n",
      "Epoch 4/20, Loss: 1.2436258494853973\n",
      "Epoch 5/20, Loss: 1.216487169265747\n",
      "Epoch 6/20, Loss: 1.171218603849411\n",
      "Epoch 7/20, Loss: 1.1580175161361694\n",
      "Epoch 8/20, Loss: 1.0895709991455078\n",
      "Epoch 9/20, Loss: 1.0646306574344635\n",
      "Epoch 10/20, Loss: 1.033623918890953\n",
      "Epoch 11/20, Loss: 0.9892938435077667\n",
      "Epoch 12/20, Loss: 0.9503342658281326\n",
      "Epoch 13/20, Loss: 0.929772362112999\n",
      "Epoch 14/20, Loss: 0.8856446743011475\n",
      "Epoch 15/20, Loss: 0.876471221446991\n",
      "Epoch 16/20, Loss: 0.8340339660644531\n",
      "Epoch 17/20, Loss: 0.7940598130226135\n",
      "Epoch 18/20, Loss: 0.7904439866542816\n",
      "Epoch 19/20, Loss: 0.7644221782684326\n",
      "Epoch 20/20, Loss: 0.7252548784017563\n",
      "✅ 학습 완료!\n"
     ]
    }
   ],
   "source": [
    "\n",
    "# ✅ 모델 학습 루프\n",
    "num_epochs = 20\n",
    "for epoch in range(num_epochs):\n",
    "    model.train()\n",
    "    running_loss = 0.0\n",
    "\n",
    "    for inputs, labels in train_loader:\n",
    "        inputs, labels = inputs.to(device), labels.to(device)\n",
    "        optimizer.zero_grad()\n",
    "        outputs = model(inputs)\n",
    "        loss = criterion(outputs, labels)\n",
    "        loss.backward()\n",
    "        optimizer.step()\n",
    "        running_loss += loss.item()\n",
    "\n",
    "    print(f\"Epoch {epoch+1}/{num_epochs}, Loss: {running_loss / len(train_loader)}\")\n",
    "\n",
    "print(\"✅ 학습 완료!\")"
   ]
  },
  {
   "cell_type": "code",
   "execution_count": 34,
   "id": "5d088ed7-72b3-492b-9c80-d00a87bbc2b9",
   "metadata": {},
   "outputs": [
    {
     "name": "stdout",
     "output_type": "stream",
     "text": [
      "✅ 모델 정확도: 75.00%\n"
     ]
    }
   ],
   "source": [
    "# ✅ 모델 평가\n",
    "model.eval()\n",
    "correct = 0\n",
    "total = 0\n",
    "with torch.no_grad():\n",
    "    for inputs, labels in test_loader:\n",
    "        inputs, labels = inputs.to(device), labels.to(device)\n",
    "        outputs = model(inputs)\n",
    "        _, predicted = torch.max(outputs, 1)\n",
    "        correct += (predicted == labels).sum().item()\n",
    "        total += labels.size(0)\n",
    "\n",
    "accuracy = 100 * correct / total\n",
    "print(f\"✅ 모델 정확도: {accuracy:.2f}%\")"
   ]
  },
  {
   "cell_type": "code",
   "execution_count": null,
   "id": "229fb832-c46e-495e-a5bc-a26a230fc80b",
   "metadata": {},
   "outputs": [],
   "source": []
  }
 ],
 "metadata": {
  "kernelspec": {
   "display_name": "Python [conda env:sol3]",
   "language": "python",
   "name": "conda-env-sol3-py"
  },
  "language_info": {
   "codemirror_mode": {
    "name": "ipython",
    "version": 3
   },
   "file_extension": ".py",
   "mimetype": "text/x-python",
   "name": "python",
   "nbconvert_exporter": "python",
   "pygments_lexer": "ipython3",
   "version": "3.10.16"
  }
 },
 "nbformat": 4,
 "nbformat_minor": 5
}
